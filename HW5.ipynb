{
 "cells": [
  {
   "cell_type": "markdown",
   "metadata": {},
   "source": [
    "### Homework 5 MATH 180 ###"
   ]
  },
  {
   "cell_type": "code",
   "execution_count": 2,
   "metadata": {},
   "outputs": [],
   "source": [
    "import numpy as np\n",
    "import matplotlib.pyplot as plt\n",
    "import pandas as pd"
   ]
  },
  {
   "cell_type": "markdown",
   "metadata": {},
   "source": [
    "## Question 1 ##\n",
    "$\\textbf{Part 1}$ \\\n",
    "From the lecture slides we get the formula \\\n",
    "$SE(\\hat{beta_1}) = \\sqrt{\\frac{\\sigma^2}{(n-1)VAR(x)}}$ \\\n",
    "We know that there are 8 degrees of freedom and one parameter, since it is linear regression, so n is 10 from the formula $df = n-p-1$ \\\n",
    "$\\sigma^2$ is just the residual standard error. We get:"
   ]
  },
  {
   "cell_type": "code",
   "execution_count": 3,
   "metadata": {},
   "outputs": [
    {
     "name": "stdout",
     "output_type": "stream",
     "text": [
      "SE = 0.3095\n"
     ]
    }
   ],
   "source": [
    "sigmasquared = 0.5254\n",
    "n = 10\n",
    "varx = 0.609314\n",
    "SE = np.sqrt(sigmasquared/((n-1) * varx))\n",
    "print(f\"SE = {SE:.4f}\")"
   ]
  },
  {
   "cell_type": "markdown",
   "metadata": {},
   "source": [
    "$\\textbf{Part 2}$ \\\n",
    "From the lecture slides we get the formula \\\n",
    "$t_{\\beta_1} = \\frac{\\hat{\\beta_1}-\\beta_1}{SE(\\hat{\\beta_1})}$ \\\n",
    "Where $\\beta_1$ is zero from the null hypothesis. We get:"
   ]
  },
  {
   "cell_type": "code",
   "execution_count": 4,
   "metadata": {},
   "outputs": [
    {
     "name": "stdout",
     "output_type": "stream",
     "text": [
      "t = 2.3969\n"
     ]
    }
   ],
   "source": [
    "estimatebetaone = 0.7419\n",
    "tbetaone = estimatebetaone/SE\n",
    "print(f\"t = {tbetaone:.4f}\")"
   ]
  },
  {
   "cell_type": "code",
   "execution_count": 5,
   "metadata": {},
   "outputs": [],
   "source": [
    "import scipy.stats as stats"
   ]
  },
  {
   "cell_type": "markdown",
   "metadata": {},
   "source": [
    "$\\textbf{Part 3}$ \\\n",
    "We use the Python-equivalent function of pt() to get the p-value. "
   ]
  },
  {
   "cell_type": "code",
   "execution_count": 6,
   "metadata": {},
   "outputs": [
    {
     "name": "stdout",
     "output_type": "stream",
     "text": [
      "0.4793600376260717\n"
     ]
    }
   ],
   "source": [
    "print(stats.t.cdf(-0.7419, df = 8) + 1-stats.t.cdf(0.7419, df = 8))"
   ]
  },
  {
   "cell_type": "markdown",
   "metadata": {},
   "source": [
    "## Problem 2 ##\n",
    "$\\textbf{Part 1}$ \\\n",
    "See PDF\n",
    "$\\textbf{Part 2}$ \\\n"
   ]
  },
  {
   "cell_type": "code",
   "execution_count": 7,
   "metadata": {},
   "outputs": [],
   "source": [
    "from sklearn.metrics import r2_score"
   ]
  },
  {
   "cell_type": "code",
   "execution_count": 8,
   "metadata": {},
   "outputs": [],
   "source": [
    "Auto = pd.read_csv(r\"C:\\Users\\chril\\Documents\\Python Scripts\\Math180HW1\\Auto.csv\") #Reads data\n",
    "\n",
    "for col in Auto.columns[0:8]: #Looks in the first 8 columns and removes non-numeric values\n",
    "    Auto = Auto[pd.to_numeric(Auto[col], errors='coerce').notnull()]\n",
    "Auto[\"horsepower\"] = Auto[\"horsepower\"].astype(np.int64) #Converts column to correct type"
   ]
  },
  {
   "cell_type": "code",
   "execution_count": 10,
   "metadata": {},
   "outputs": [
    {
     "name": "stdout",
     "output_type": "stream",
     "text": [
      "-675336.6683398337\n",
      "-11.701966637562295\n"
     ]
    }
   ],
   "source": [
    "print(r2_score(Auto[\"year\"], Auto[\"weight\"]))\n",
    "print(r2_score(Auto[\"weight\"], Auto[\"year\"]))"
   ]
  }
 ],
 "metadata": {
  "kernelspec": {
   "display_name": "Python 3",
   "language": "python",
   "name": "python3"
  },
  "language_info": {
   "codemirror_mode": {
    "name": "ipython",
    "version": 3
   },
   "file_extension": ".py",
   "mimetype": "text/x-python",
   "name": "python",
   "nbconvert_exporter": "python",
   "pygments_lexer": "ipython3",
   "version": "3.11.1"
  }
 },
 "nbformat": 4,
 "nbformat_minor": 2
}
