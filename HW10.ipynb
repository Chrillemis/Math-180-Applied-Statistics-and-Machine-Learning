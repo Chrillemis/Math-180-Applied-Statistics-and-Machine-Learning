{
 "cells": [
  {
   "cell_type": "markdown",
   "metadata": {},
   "source": [
    "# Homework 10"
   ]
  },
  {
   "cell_type": "code",
   "execution_count": 4,
   "metadata": {},
   "outputs": [],
   "source": [
    "import numpy as np\n",
    "import matplotlib.pyplot as plt\n",
    "import pandas as pd\n",
    "from ISLP.models import ModelSpec as MS"
   ]
  },
  {
   "cell_type": "code",
   "execution_count": 5,
   "metadata": {},
   "outputs": [],
   "source": [
    "Hitters = pd.read_csv('C:\\\\Users\\\\lorentsen\\\\Documents\\\\Python\\\\Math-180-Applied-Statistics-and-Machine-Learning\\\\ISLRv2_data\\\\ALL CSV FILES - 2nd Edition\\\\Hitters.csv')\n",
    "Hitters.dropna(inplace=True)\n",
    "y = Hitters['Salary']\n",
    "x = Hitters.drop('Salary', axis=1)"
   ]
  },
  {
   "cell_type": "markdown",
   "metadata": {},
   "source": [
    "## Problem 1\n",
    "### part a)"
   ]
  },
  {
   "cell_type": "code",
   "execution_count": 6,
   "metadata": {},
   "outputs": [],
   "source": [
    "x = x.astype({'AtBat': 'float64', 'Hits': 'float64', 'HmRun': 'float64', 'Runs': 'float64', 'RBI': 'float64', 'Walks': 'float64', 'Years': 'float64', 'CAtBat': 'float64', 'CHits': 'float64', 'CHmRun': 'float64', 'CRuns': 'float64', 'CRBI': 'float64', 'CWalks': 'float64', 'PutOuts': 'float64', 'Assists': 'float64', 'Errors': 'float64'})\n",
    "for i in range(0, x.shape[1]):\n",
    "    if x.iloc[:, i].dtype == 'object':\n",
    "        continue\n",
    "    x.iloc[:,i] = (x.iloc[:, i] - x.iloc[:, i].mean())/x.iloc[:, i].std()\n",
    "\n",
    "y = (y - y.mean())/y.std()\n",
    "x['NewLeague'] = x['NewLeague'].map({'A': 1, 'N': 0})\n",
    "x['League'] = x['League'].map({'A': 1, 'N': 0})\n",
    "x['Division'] = x['Division'].map({'E': 1, 'W': 0})\n",
    "# print(x.head())\n"
   ]
  },
  {
   "cell_type": "markdown",
   "metadata": {},
   "source": [
    "### part b)"
   ]
  },
  {
   "cell_type": "code",
   "execution_count": 7,
   "metadata": {},
   "outputs": [],
   "source": [
    "import statsmodels.api as sm"
   ]
  },
  {
   "cell_type": "code",
   "execution_count": 8,
   "metadata": {},
   "outputs": [
    {
     "data": {
      "text/plain": [
       "AtBat       -0.658632\n",
       "Hits         0.755723\n",
       "HmRun        0.080603\n",
       "Runs        -0.121588\n",
       "RBI         -0.047869\n",
       "Walks        0.291328\n",
       "Years       -0.021399\n",
       "CAtBat      -0.892974\n",
       "CHits        0.138303\n",
       "CHmRun      -0.033312\n",
       "CRuns        1.132763\n",
       "CRBI         0.581068\n",
       "CWalks      -0.475808\n",
       "League      -0.168323\n",
       "Division     0.206751\n",
       "PutOuts      0.174039\n",
       "Assists      0.122905\n",
       "Errors      -0.052294\n",
       "NewLeague    0.020377\n",
       "dtype: float64"
      ]
     },
     "execution_count": 8,
     "metadata": {},
     "output_type": "execute_result"
    }
   ],
   "source": [
    "# newmodel = MS(x, intercept = False)\n",
    "# X = newmodel.fit_transform(x)\n",
    "# Y = y\n",
    "model = sm.OLS(y, x).fit()\n",
    "model.params"
   ]
  },
  {
   "cell_type": "markdown",
   "metadata": {},
   "source": [
    "### part c)\n",
    "\n",
    "We have\n",
    "\\begin{equation}\n",
    "f(X) = \\beta_0 + \\sum^K_{k=1} \\beta_k h_k(X)\n",
    "\\end{equation}\n",
    "where $h_k$ is our activation function, which is just connected to one predictor for each $k$. We can rewrite this as\n",
    "\\begin{equation}\n",
    "f(X) = \\beta_0 +\\sum^p_{k=1} \\beta_k X_k\n",
    "\\end{equation}\n",
    "Which is just linear regression.\n",
    "\n",
    "### part d)\n"
   ]
  },
  {
   "cell_type": "code",
   "execution_count": 9,
   "metadata": {},
   "outputs": [],
   "source": [
    "\n",
    "newmodel = MS(Hitters.drop('Salary', axis=1), intercept = False)\n",
    "X = newmodel.fit_transform(Hitters.drop('Salary', axis=1))\n",
    "Y = Hitters['Salary']\n",
    "\n",
    "X['NewLeague'] = X['NewLeague'].map({'A': 1, 'N': 0})\n",
    "X['League'] = X['League'].map({'A': 1, 'N': 0})\n",
    "X['Division'] = X['Division'].map({'E': 1, 'W': 0})"
   ]
  },
  {
   "cell_type": "markdown",
   "metadata": {},
   "source": [
    "### part e)"
   ]
  },
  {
   "cell_type": "code",
   "execution_count": 10,
   "metadata": {},
   "outputs": [],
   "source": [
    "import keras\n",
    "from keras import layers\n",
    "from keras import ops"
   ]
  },
  {
   "cell_type": "code",
   "execution_count": 11,
   "metadata": {},
   "outputs": [
    {
     "data": {
      "text/plain": [
       "(263, 19)"
      ]
     },
     "execution_count": 11,
     "metadata": {},
     "output_type": "execute_result"
    }
   ],
   "source": [
    "X.shape"
   ]
  },
  {
   "cell_type": "code",
   "execution_count": 12,
   "metadata": {},
   "outputs": [
    {
     "name": "stderr",
     "output_type": "stream",
     "text": [
      "C:\\Users\\lorentsen\\AppData\\Local\\Packages\\PythonSoftwareFoundation.Python.3.11_qbz5n2kfra8p0\\LocalCache\\local-packages\\Python311\\site-packages\\keras\\src\\layers\\core\\dense.py:87: UserWarning: Do not pass an `input_shape`/`input_dim` argument to a layer. When using Sequential models, prefer using an `Input(shape)` object as the first layer in the model instead.\n",
      "  super().__init__(activity_regularizer=activity_regularizer, **kwargs)\n"
     ]
    }
   ],
   "source": [
    "modelnn = keras.Sequential(\n",
    "    [\n",
    "        # Input(shape),\n",
    "        layers.Dense(1, activation = None, input_shape = (X.shape[1],)),\n",
    "    ]\n",
    ")"
   ]
  },
  {
   "cell_type": "markdown",
   "metadata": {},
   "source": [
    "### part f)"
   ]
  },
  {
   "cell_type": "code",
   "execution_count": 13,
   "metadata": {},
   "outputs": [
    {
     "data": {
      "text/plain": [
       "<keras.src.callbacks.history.History at 0x16de05e0710>"
      ]
     },
     "execution_count": 13,
     "metadata": {},
     "output_type": "execute_result"
    }
   ],
   "source": [
    "modelnn.compile(loss='mean_squared_error', optimizer='adam')\n",
    "modelnn.fit(X, Y, epochs=200, verbose=0)"
   ]
  },
  {
   "cell_type": "markdown",
   "metadata": {},
   "source": [
    "### part g)"
   ]
  },
  {
   "cell_type": "code",
   "execution_count": 14,
   "metadata": {},
   "outputs": [
    {
     "name": "stdout",
     "output_type": "stream",
     "text": [
      "                glm        nn\n",
      "AtBat     -0.658632  0.372490\n",
      "Hits       0.755723  0.220966\n",
      "HmRun      0.080603  0.427546\n",
      "Runs      -0.121588  0.152816\n",
      "RBI       -0.047869  0.203717\n",
      "Walks      0.291328  0.282414\n",
      "Years     -0.021399  0.345568\n",
      "CAtBat    -0.892974 -0.036327\n",
      "CHits      0.138303  0.225783\n",
      "CHmRun    -0.033312  0.520898\n",
      "CRuns      1.132763  0.640141\n",
      "CRBI       0.581068 -0.247382\n",
      "CWalks    -0.475808 -0.019566\n",
      "League    -0.168323  0.475366\n",
      "Division   0.206751  0.481771\n",
      "PutOuts    0.174039  0.294817\n",
      "Assists    0.122905  0.077672\n",
      "Errors    -0.052294  0.237375\n",
      "NewLeague  0.020377 -0.279441\n"
     ]
    }
   ],
   "source": [
    "showparams = pd.DataFrame()\n",
    "# print(model.params)\n",
    "showparams['glm'] = model.params\n",
    "showparams['nn'] = modelnn.get_weights()[0]\n",
    "# showparams.index = model.params.index\n",
    "print(showparams)"
   ]
  },
  {
   "cell_type": "markdown",
   "metadata": {},
   "source": [
    "Seems like it does not match the glm very well"
   ]
  },
  {
   "cell_type": "code",
   "execution_count": 15,
   "metadata": {},
   "outputs": [
    {
     "data": {
      "text/plain": [
       "['Adadelta',\n",
       " 'Adafactor',\n",
       " 'Adagrad',\n",
       " 'Adam',\n",
       " 'AdamW',\n",
       " 'Adamax',\n",
       " 'Ftrl',\n",
       " 'Lamb',\n",
       " 'Lion',\n",
       " 'LossScaleOptimizer',\n",
       " 'Nadam',\n",
       " 'Optimizer',\n",
       " 'RMSprop',\n",
       " 'SGD',\n",
       " '__builtins__',\n",
       " '__cached__',\n",
       " '__doc__',\n",
       " '__file__',\n",
       " '__loader__',\n",
       " '__name__',\n",
       " '__package__',\n",
       " '__path__',\n",
       " '__spec__',\n",
       " 'deserialize',\n",
       " 'get',\n",
       " 'legacy',\n",
       " 'schedules',\n",
       " 'serialize']"
      ]
     },
     "execution_count": 15,
     "metadata": {},
     "output_type": "execute_result"
    }
   ],
   "source": [
    "dir(keras.optimizers)"
   ]
  },
  {
   "cell_type": "code",
   "execution_count": 16,
   "metadata": {},
   "outputs": [],
   "source": [
    "modelnn.compile(loss='mean_squared_error', optimizer = 'Adagrad')\n",
    "modelnn.fit(X, Y, epochs=200, verbose=0)\n",
    "showparams['nn_adagrad'] = modelnn.get_weights()[0]\n",
    "\n",
    "modelnn.compile(loss='mean_squared_error', optimizer = 'Adamax')\n",
    "modelnn.fit(X, Y, epochs=200, verbose=0)\n",
    "showparams['nn_Adamax'] = modelnn.get_weights()[0]\n"
   ]
  },
  {
   "cell_type": "code",
   "execution_count": 17,
   "metadata": {},
   "outputs": [
    {
     "name": "stdout",
     "output_type": "stream",
     "text": [
      "                glm        nn  nn_adagrad  nn_Adamax\n",
      "AtBat     -0.658632  0.372490    0.370088   0.361001\n",
      "Hits       0.755723  0.220966    0.228304   0.265076\n",
      "HmRun      0.080603  0.427546    0.438068   0.479720\n",
      "Runs      -0.121588  0.152816    0.161307   0.202442\n",
      "RBI       -0.047869  0.203717    0.214516   0.262501\n",
      "Walks      0.291328  0.282414    0.297790   0.381039\n",
      "Years     -0.021399  0.345568    0.332632   0.295523\n",
      "CAtBat    -0.892974 -0.036327   -0.042506  -0.051617\n",
      "CHits      0.138303  0.225783    0.223206   0.229322\n",
      "CHmRun    -0.033312  0.520898    0.533551   0.590620\n",
      "CRuns      1.132763  0.640141    0.638909   0.648556\n",
      "CRBI       0.581068 -0.247382   -0.240997  -0.202009\n",
      "CWalks    -0.475808 -0.019566   -0.024043  -0.030344\n",
      "League    -0.168323  0.475366    0.453000   0.350029\n",
      "Division   0.206751  0.481771    0.520817   0.690721\n",
      "PutOuts    0.174039  0.294817    0.298553   0.313319\n",
      "Assists    0.122905  0.077672    0.063768   0.019146\n",
      "Errors    -0.052294  0.237375    0.215570   0.118795\n",
      "NewLeague  0.020377 -0.279441   -0.296558  -0.373307\n"
     ]
    }
   ],
   "source": [
    "print(showparams)"
   ]
  },
  {
   "cell_type": "markdown",
   "metadata": {},
   "source": [
    "They only vary a little betwwen different optimizers, but still far off the glm, which is weird."
   ]
  },
  {
   "cell_type": "markdown",
   "metadata": {},
   "source": [
    "## Problem 2"
   ]
  },
  {
   "cell_type": "markdown",
   "metadata": {},
   "source": [
    "#### part a)"
   ]
  },
  {
   "cell_type": "code",
   "execution_count": 18,
   "metadata": {},
   "outputs": [],
   "source": [
    "import statsmodels.api as sm"
   ]
  },
  {
   "cell_type": "code",
   "execution_count": 19,
   "metadata": {},
   "outputs": [
    {
     "data": {
      "text/plain": [
       "student   -3.753126\n",
       "balance    0.002795\n",
       "income    -0.000174\n",
       "dtype: float64"
      ]
     },
     "execution_count": 19,
     "metadata": {},
     "output_type": "execute_result"
    }
   ],
   "source": [
    "default = pd.read_csv('C:\\\\Users\\\\lorentsen\\\\Documents\\\\Python\\\\Math-180-Applied-Statistics-and-Machine-Learning\\\\ISLRv2_data\\\\ALL CSV FILES - 2nd Edition\\\\Default.csv')\n",
    "\n",
    "default.head()\n",
    "default['default'] = default['default'].map({'No': 0, 'Yes': 1})\n",
    "default['student'] = default['student'].map({'No': 0, 'Yes': 1})\n",
    "\n",
    "X = MS(default.columns.drop('default'), intercept = False).fit_transform(default)\n",
    "Y = default['default']\n",
    "\n",
    "GLMmodel = sm.GLM(\n",
    "    Y\n",
    "    , X\n",
    "    , family = sm.families.Binomial()\n",
    "    )\n",
    "regr = GLMmodel.fit()\n",
    "regr.params"
   ]
  },
  {
   "cell_type": "markdown",
   "metadata": {},
   "source": [
    "#### part b) \n",
    "See pdf\n",
    "#### part c)\n"
   ]
  },
  {
   "cell_type": "code",
   "execution_count": null,
   "metadata": {},
   "outputs": [],
   "source": []
  },
  {
   "cell_type": "code",
   "execution_count": 20,
   "metadata": {},
   "outputs": [
    {
     "name": "stderr",
     "output_type": "stream",
     "text": [
      "C:\\Users\\lorentsen\\AppData\\Local\\Packages\\PythonSoftwareFoundation.Python.3.11_qbz5n2kfra8p0\\LocalCache\\local-packages\\Python311\\site-packages\\keras\\src\\layers\\core\\dense.py:87: UserWarning: Do not pass an `input_shape`/`input_dim` argument to a layer. When using Sequential models, prefer using an `Input(shape)` object as the first layer in the model instead.\n",
      "  super().__init__(activity_regularizer=activity_regularizer, **kwargs)\n"
     ]
    }
   ],
   "source": [
    "modelnn = keras.Sequential(\n",
    "    [\n",
    "        layers.Dense(2, activation = 'softmax', input_shape = (X.shape[1],))\n",
    "    ]\n",
    ")"
   ]
  },
  {
   "cell_type": "markdown",
   "metadata": {},
   "source": [
    "#### part e)"
   ]
  },
  {
   "cell_type": "code",
   "execution_count": 21,
   "metadata": {},
   "outputs": [
    {
     "data": {
      "text/plain": [
       "<keras.src.callbacks.history.History at 0x16de712b850>"
      ]
     },
     "execution_count": 21,
     "metadata": {},
     "output_type": "execute_result"
    }
   ],
   "source": [
    "modelnn.compile(loss='categorical_crossentropy', optimizer = 'adam')\n",
    "modelnn.fit(X, keras.utils.to_categorical(Y), epochs=200, verbose=0)"
   ]
  },
  {
   "cell_type": "markdown",
   "metadata": {},
   "source": [
    "<!-- #### part f) -->"
   ]
  },
  {
   "cell_type": "code",
   "execution_count": 22,
   "metadata": {},
   "outputs": [
    {
     "data": {
      "text/html": [
       "<div>\n",
       "<style scoped>\n",
       "    .dataframe tbody tr th:only-of-type {\n",
       "        vertical-align: middle;\n",
       "    }\n",
       "\n",
       "    .dataframe tbody tr th {\n",
       "        vertical-align: top;\n",
       "    }\n",
       "\n",
       "    .dataframe thead th {\n",
       "        text-align: right;\n",
       "    }\n",
       "</style>\n",
       "<table border=\"1\" class=\"dataframe\">\n",
       "  <thead>\n",
       "    <tr style=\"text-align: right;\">\n",
       "      <th></th>\n",
       "      <th>glm</th>\n",
       "      <th>nn</th>\n",
       "    </tr>\n",
       "  </thead>\n",
       "  <tbody>\n",
       "    <tr>\n",
       "      <th>student</th>\n",
       "      <td>-3.753126</td>\n",
       "      <td>-11.298038</td>\n",
       "    </tr>\n",
       "    <tr>\n",
       "      <th>balance</th>\n",
       "      <td>0.002795</td>\n",
       "      <td>0.015404</td>\n",
       "    </tr>\n",
       "    <tr>\n",
       "      <th>income</th>\n",
       "      <td>-0.000174</td>\n",
       "      <td>-0.000915</td>\n",
       "    </tr>\n",
       "  </tbody>\n",
       "</table>\n",
       "</div>"
      ],
      "text/plain": [
       "              glm         nn\n",
       "student -3.753126 -11.298038\n",
       "balance  0.002795   0.015404\n",
       "income  -0.000174  -0.000915"
      ]
     },
     "execution_count": 22,
     "metadata": {},
     "output_type": "execute_result"
    }
   ],
   "source": [
    "compareparams = pd.DataFrame()\n",
    "compareparams['glm'] = regr.params\n",
    "compareparams['nn'] = np.diff(modelnn.get_weights()[0], axis = 1)\n",
    "compareparams"
   ]
  },
  {
   "cell_type": "markdown",
   "metadata": {},
   "source": [
    "They are fairly similar"
   ]
  },
  {
   "cell_type": "code",
   "execution_count": 29,
   "metadata": {},
   "outputs": [
    {
     "name": "stderr",
     "output_type": "stream",
     "text": [
      "[NbConvertApp] Converting notebook HW10.ipynb to html\n",
      "[NbConvertApp] Writing 318916 bytes to HW10.html\n"
     ]
    }
   ],
   "source": [
    "##Convert to HTML\n",
    "!jupyter nbconvert --to html HW10.ipynb\n",
    "\n"
   ]
  }
 ],
 "metadata": {
  "kernelspec": {
   "display_name": "Python 3",
   "language": "python",
   "name": "python3"
  },
  "language_info": {
   "codemirror_mode": {
    "name": "ipython",
    "version": 3
   },
   "file_extension": ".py",
   "mimetype": "text/x-python",
   "name": "python",
   "nbconvert_exporter": "python",
   "pygments_lexer": "ipython3",
   "version": "3.11.9"
  }
 },
 "nbformat": 4,
 "nbformat_minor": 2
}
