{
 "cells": [
  {
   "cell_type": "markdown",
   "metadata": {},
   "source": [
    "# Homework 10"
   ]
  },
  {
   "cell_type": "code",
   "execution_count": 67,
   "metadata": {},
   "outputs": [],
   "source": [
    "import numpy as np\n",
    "import matplotlib.pyplot as plt\n",
    "import pandas as pd\n",
    "from ISLP.models import ModelSpec as MS"
   ]
  },
  {
   "cell_type": "code",
   "execution_count": 68,
   "metadata": {},
   "outputs": [],
   "source": [
    "Hitters = pd.read_csv('C:\\\\Users\\\\lorentsen\\\\Documents\\\\Python\\\\Math-180-Applied-Statistics-and-Machine-Learning\\\\ISLRv2_data\\\\ALL CSV FILES - 2nd Edition\\\\Hitters.csv')\n",
    "Hitters.dropna(inplace=True)\n",
    "y = Hitters['Salary']\n",
    "x = Hitters.drop('Salary', axis=1)"
   ]
  },
  {
   "cell_type": "markdown",
   "metadata": {},
   "source": [
    "## Problem 1\n",
    "### part a)"
   ]
  },
  {
   "cell_type": "code",
   "execution_count": null,
   "metadata": {},
   "outputs": [],
   "source": []
  },
  {
   "cell_type": "code",
   "execution_count": 82,
   "metadata": {},
   "outputs": [],
   "source": [
    "for i in range(1, x.shape[1]):\n",
    "    if x.iloc[:, i].dtype == 'object':\n",
    "        continue\n",
    "    x.iloc[:,i] = (x.iloc[:, i] - x.iloc[:, i].mean())/x.iloc[:, i].std()\n",
    "# print(x)\n",
    "Y = (y - y.mean()) / y.std()\n",
    "x['NewLeague'] = x['NewLeague'].map({'A': 1, 'N': 0})\n",
    "x['League'] = x['League'].map({'A': 1, 'N': 0})\n",
    "x['Division'] = x['Division'].map({'E': 1, 'W': 0})\n"
   ]
  },
  {
   "cell_type": "markdown",
   "metadata": {},
   "source": [
    "### part b)"
   ]
  },
  {
   "cell_type": "code",
   "execution_count": null,
   "metadata": {},
   "outputs": [],
   "source": [
    "import statsmodels.api as sm"
   ]
  },
  {
   "cell_type": "code",
   "execution_count": 88,
   "metadata": {},
   "outputs": [
    {
     "data": {
      "text/plain": [
       "AtBat       -0.000081\n",
       "Hits         0.215881\n",
       "HmRun        0.075211\n",
       "Runs        -0.099478\n",
       "RBI         -0.102530\n",
       "Walks        0.214055\n",
       "Years        0.048549\n",
       "CAtBat      -1.787843\n",
       "CHits        1.091689\n",
       "CHmRun      -0.025533\n",
       "CRuns        0.836802\n",
       "CRBI         0.596879\n",
       "CWalks      -0.300279\n",
       "League      -0.226753\n",
       "Division     0.231789\n",
       "PutOuts      0.157102\n",
       "Assists      0.100293\n",
       "Errors      -0.078106\n",
       "NewLeague    0.073775\n",
       "dtype: float64"
      ]
     },
     "execution_count": 88,
     "metadata": {},
     "output_type": "execute_result"
    }
   ],
   "source": [
    "model = sm.OLS(Y, x).fit()\n",
    "model.params"
   ]
  },
  {
   "cell_type": "markdown",
   "metadata": {},
   "source": [
    "### part c)\n",
    "\n",
    "We have\n",
    "\\begin{equation}\n",
    "f(X) = \\beta_0 + \\sum^K_{k=1} \\beta_k g(w_{k0}+\\sum^p_{j=1} w_{kj}X_j)\n",
    "\\end{equation}\n",
    "But we have $K=0$ and we connect directly to the output layer. So we have\n",
    "\\begin{equation}\n",
    "f(X) = \\beta_0 + w_{10}+\\sum^p_{j=1} w_{1j}X_j\n",
    "\\end{equation}\n",
    "Where we can just define a new $\\beta_0$ to be $\\beta_0 + w_{10}$ and $\\beta_j = w_{1j}$, so we get linear regression. \\\\\n",
    "\n",
    "### part d)\n"
   ]
  },
  {
   "cell_type": "code",
   "execution_count": null,
   "metadata": {},
   "outputs": [],
   "source": [
    "model = MS(Hitters.columns.drop('Salary'), intercept = False)\n",
    "X = model.fit_transform(Hitters)\n",
    "Y = Hitters['Salary']\n",
    "\n",
    "X['NewLeague'] = X['NewLeague'].map({'A': 1, 'N': 0})\n",
    "X['League'] = X['League'].map({'A': 1, 'N': 0})\n",
    "X['Division'] = X['Division'].map({'E': 1, 'W': 0})"
   ]
  },
  {
   "cell_type": "markdown",
   "metadata": {},
   "source": [
    "### part e)"
   ]
  },
  {
   "cell_type": "code",
   "execution_count": null,
   "metadata": {},
   "outputs": [],
   "source": [
    "import keras\n",
    "from keras import layers\n",
    "from keras import ops"
   ]
  },
  {
   "cell_type": "code",
   "execution_count": null,
   "metadata": {},
   "outputs": [
    {
     "name": "stderr",
     "output_type": "stream",
     "text": [
      "C:\\Users\\lorentsen\\AppData\\Local\\Packages\\PythonSoftwareFoundation.Python.3.11_qbz5n2kfra8p0\\LocalCache\\local-packages\\Python311\\site-packages\\keras\\src\\layers\\core\\dense.py:87: UserWarning: Do not pass an `input_shape`/`input_dim` argument to a layer. When using Sequential models, prefer using an `Input(shape)` object as the first layer in the model instead.\n",
      "  super().__init__(activity_regularizer=activity_regularizer, **kwargs)\n"
     ]
    }
   ],
   "source": [
    "modelnn = keras.Sequential(\n",
    "    [\n",
    "        # Input(shape),\n",
    "        layers.Dense(1, input_shape=(X.shape[1],))\n",
    "    ]\n",
    ")"
   ]
  },
  {
   "cell_type": "markdown",
   "metadata": {},
   "source": [
    "### part f)"
   ]
  },
  {
   "cell_type": "code",
   "execution_count": null,
   "metadata": {},
   "outputs": [
    {
     "data": {
      "text/plain": [
       "<keras.src.callbacks.history.History at 0x13e4b2cb290>"
      ]
     },
     "execution_count": 64,
     "metadata": {},
     "output_type": "execute_result"
    }
   ],
   "source": [
    "modelnn.compile(loss='mean_squared_error', optimizer='adam')\n",
    "modelnn.fit(X, Y, epochs=200, verbose=0)"
   ]
  },
  {
   "cell_type": "code",
   "execution_count": null,
   "metadata": {},
   "outputs": [
    {
     "name": "stdout",
     "output_type": "stream",
     "text": [
      "                glm        nn\n",
      "AtBat     -0.000081  0.077738\n",
      "Hits       0.215881  0.950418\n",
      "HmRun      0.075211 -0.005721\n",
      "Runs      -0.099478  1.069494\n",
      "RBI       -0.102530  0.981250\n",
      "Walks      0.214055  0.181277\n",
      "Years      0.048549  0.020214\n",
      "CAtBat    -1.787843  0.182441\n",
      "CHits      1.091689 -0.322822\n",
      "CHmRun    -0.025533  0.335356\n",
      "CRuns      0.836802 -0.333735\n",
      "CRBI       0.596879  0.297414\n",
      "CWalks    -0.300279 -0.057946\n",
      "League    -0.226753 -0.010531\n",
      "Division   0.231789  1.495157\n",
      "PutOuts    0.157102  0.220071\n",
      "Assists    0.100293 -0.018021\n",
      "Errors    -0.078106  0.039753\n",
      "NewLeague  0.073775 -0.293010\n"
     ]
    }
   ],
   "source": [
    "showparams = pd.DataFrame()\n",
    "showparams['glm'] = model.params \n",
    "showparams['nn'] = modelnn.get_weights()[0]\n",
    "showparams.index = model.params.index\n",
    "print(showparams)"
   ]
  }
 ],
 "metadata": {
  "kernelspec": {
   "display_name": "Python 3",
   "language": "python",
   "name": "python3"
  },
  "language_info": {
   "codemirror_mode": {
    "name": "ipython",
    "version": 3
   },
   "file_extension": ".py",
   "mimetype": "text/x-python",
   "name": "python",
   "nbconvert_exporter": "python",
   "pygments_lexer": "ipython3",
   "version": "3.11.9"
  }
 },
 "nbformat": 4,
 "nbformat_minor": 2
}
