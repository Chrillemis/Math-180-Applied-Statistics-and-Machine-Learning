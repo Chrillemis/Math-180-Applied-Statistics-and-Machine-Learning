{
 "cells": [
  {
   "cell_type": "code",
   "execution_count": 918,
   "metadata": {},
   "outputs": [],
   "source": [
    "import numpy as np\n",
    "import matplotlib.pyplot as plt\n",
    "import pandas as pd"
   ]
  },
  {
   "cell_type": "markdown",
   "metadata": {},
   "source": [
    "## Homework 1\n",
    "### Problem 1"
   ]
  },
  {
   "cell_type": "code",
   "execution_count": 919,
   "metadata": {},
   "outputs": [],
   "source": [
    "### Part a) ###\n",
    "Data = np.random.normal(0,1,100)\n",
    "noise = np.random.normal(0,1,100)\n",
    "\n",
    "Response = 2 + Data + 3*Data**2 - 0.5*Data**3 + noise\n",
    "\n",
    "Df = pd.DataFrame({'X':Data, 'Y':Response})"
   ]
  },
  {
   "cell_type": "code",
   "execution_count": 920,
   "metadata": {},
   "outputs": [],
   "source": [
    "import statsmodels.api as sm\n",
    "import time\n",
    "import itertools\n"
   ]
  },
  {
   "cell_type": "markdown",
   "metadata": {},
   "source": [
    "#### part b)"
   ]
  },
  {
   "cell_type": "code",
   "execution_count": 921,
   "metadata": {},
   "outputs": [],
   "source": [
    "# Found on google\n",
    "\n",
    "def processSubset(feature_set):\n",
    "    # Fit model on feature_set and calculate RSS\n",
    "    # X = \n",
    "    model = sm.OLS(Df['Y'], sm.add_constant(Df[list(feature_set)]))\n",
    "    regr = model.fit()\n",
    "    RSS = ((regr.predict((sm.add_constant(Df[list(feature_set)])) ) - Df['Y'])**2).sum()\n",
    "    # print(regr.summary())\n",
    "    return {\"model\":regr, \"RSS\":RSS}\n",
    "\n",
    "def getBest(k):\n",
    "    \n",
    "    tic = time.time()\n",
    "    \n",
    "    results = []\n",
    "    \n",
    "    for combo in itertools.combinations(Df.loc[:, Df.columns != 'Y'].columns, k):\n",
    "        results.append(processSubset(combo))\n",
    "    \n",
    "    # Wrap everything up in a nice dataframe\n",
    "    models = pd.DataFrame(results)\n",
    "    \n",
    "    # Choose the model with the highest RSS\n",
    "    best_model = models.loc[models['RSS'].argmin()]\n",
    "    \n",
    "    toc = time.time()\n",
    "    print(\"Processed\", models.shape[0], \"models on\", k, \"predictors in\", (toc-tic), \"seconds.\")\n",
    "    \n",
    "    # Return the best model, along with some other useful information about the model\n",
    "    return best_model"
   ]
  },
  {
   "cell_type": "code",
   "execution_count": 922,
   "metadata": {},
   "outputs": [],
   "source": [
    "for i in range(2, 11):\n",
    "    Df['X^'+str(i)] = Data**i # add columns for each power of X"
   ]
  },
  {
   "cell_type": "code",
   "execution_count": 923,
   "metadata": {},
   "outputs": [
    {
     "name": "stdout",
     "output_type": "stream",
     "text": [
      "Processed 1 models on 0 predictors in 0.06199216842651367 seconds.\n",
      "Processed 10 models on 1 predictors in 0.12296772003173828 seconds.\n"
     ]
    },
    {
     "name": "stdout",
     "output_type": "stream",
     "text": [
      "Processed 45 models on 2 predictors in 0.6786043643951416 seconds.\n",
      "Processed 120 models on 3 predictors in 1.4789071083068848 seconds.\n",
      "Processed 210 models on 4 predictors in 2.9694759845733643 seconds.\n",
      "Processed 252 models on 5 predictors in 3.9869558811187744 seconds.\n",
      "Processed 210 models on 6 predictors in 3.664987802505493 seconds.\n",
      "Processed 120 models on 7 predictors in 2.4615323543548584 seconds.\n",
      "Processed 45 models on 8 predictors in 0.8203694820404053 seconds.\n",
      "Processed 10 models on 9 predictors in 0.18055081367492676 seconds.\n",
      "Processed 1 models on 10 predictors in 0.02037191390991211 seconds.\n",
      "Total elapsed time: 16.50820016860962 seconds.\n"
     ]
    }
   ],
   "source": [
    "#Also from google\n",
    "models_best = pd.DataFrame(columns=[\"RSS\", \"model\"])\n",
    "\n",
    "tic = time.time()\n",
    "for i in range(11):\n",
    "    models_best.loc[i] = getBest(i)\n",
    " \n",
    "toc = time.time()\n",
    "print(\"Total elapsed time:\", (toc-tic), \"seconds.\")\n",
    "\n"
   ]
  },
  {
   "cell_type": "code",
   "execution_count": 924,
   "metadata": {},
   "outputs": [
    {
     "data": {
      "text/html": [
       "<div>\n",
       "<style scoped>\n",
       "    .dataframe tbody tr th:only-of-type {\n",
       "        vertical-align: middle;\n",
       "    }\n",
       "\n",
       "    .dataframe tbody tr th {\n",
       "        vertical-align: top;\n",
       "    }\n",
       "\n",
       "    .dataframe thead th {\n",
       "        text-align: right;\n",
       "    }\n",
       "</style>\n",
       "<table border=\"1\" class=\"dataframe\">\n",
       "  <thead>\n",
       "    <tr style=\"text-align: right;\">\n",
       "      <th></th>\n",
       "      <th>X</th>\n",
       "      <th>X^10</th>\n",
       "      <th>X^2</th>\n",
       "      <th>X^3</th>\n",
       "      <th>X^4</th>\n",
       "      <th>X^5</th>\n",
       "      <th>X^6</th>\n",
       "      <th>X^7</th>\n",
       "      <th>X^8</th>\n",
       "      <th>X^9</th>\n",
       "      <th>const</th>\n",
       "    </tr>\n",
       "  </thead>\n",
       "  <tbody>\n",
       "    <tr>\n",
       "      <th>0</th>\n",
       "      <td>NaN</td>\n",
       "      <td>NaN</td>\n",
       "      <td>NaN</td>\n",
       "      <td>NaN</td>\n",
       "      <td>NaN</td>\n",
       "      <td>NaN</td>\n",
       "      <td>NaN</td>\n",
       "      <td>NaN</td>\n",
       "      <td>NaN</td>\n",
       "      <td>NaN</td>\n",
       "      <td>4.840191</td>\n",
       "    </tr>\n",
       "    <tr>\n",
       "      <th>1</th>\n",
       "      <td>NaN</td>\n",
       "      <td>NaN</td>\n",
       "      <td>3.176949</td>\n",
       "      <td>NaN</td>\n",
       "      <td>NaN</td>\n",
       "      <td>NaN</td>\n",
       "      <td>NaN</td>\n",
       "      <td>NaN</td>\n",
       "      <td>NaN</td>\n",
       "      <td>NaN</td>\n",
       "      <td>1.629781</td>\n",
       "    </tr>\n",
       "    <tr>\n",
       "      <th>2</th>\n",
       "      <td>NaN</td>\n",
       "      <td>NaN</td>\n",
       "      <td>2.748088</td>\n",
       "      <td>NaN</td>\n",
       "      <td>NaN</td>\n",
       "      <td>NaN</td>\n",
       "      <td>NaN</td>\n",
       "      <td>-0.005252</td>\n",
       "      <td>NaN</td>\n",
       "      <td>NaN</td>\n",
       "      <td>1.988050</td>\n",
       "    </tr>\n",
       "    <tr>\n",
       "      <th>3</th>\n",
       "      <td>1.239678</td>\n",
       "      <td>NaN</td>\n",
       "      <td>3.007395</td>\n",
       "      <td>-0.527618</td>\n",
       "      <td>NaN</td>\n",
       "      <td>NaN</td>\n",
       "      <td>NaN</td>\n",
       "      <td>NaN</td>\n",
       "      <td>NaN</td>\n",
       "      <td>NaN</td>\n",
       "      <td>1.839114</td>\n",
       "    </tr>\n",
       "    <tr>\n",
       "      <th>4</th>\n",
       "      <td>1.202926</td>\n",
       "      <td>NaN</td>\n",
       "      <td>2.988463</td>\n",
       "      <td>-0.507161</td>\n",
       "      <td>NaN</td>\n",
       "      <td>NaN</td>\n",
       "      <td>NaN</td>\n",
       "      <td>NaN</td>\n",
       "      <td>NaN</td>\n",
       "      <td>-0.000028</td>\n",
       "      <td>1.850427</td>\n",
       "    </tr>\n",
       "    <tr>\n",
       "      <th>5</th>\n",
       "      <td>1.520550</td>\n",
       "      <td>NaN</td>\n",
       "      <td>2.908608</td>\n",
       "      <td>-1.007375</td>\n",
       "      <td>NaN</td>\n",
       "      <td>0.160486</td>\n",
       "      <td>NaN</td>\n",
       "      <td>-0.012204</td>\n",
       "      <td>NaN</td>\n",
       "      <td>NaN</td>\n",
       "      <td>1.875639</td>\n",
       "    </tr>\n",
       "    <tr>\n",
       "      <th>6</th>\n",
       "      <td>1.950324</td>\n",
       "      <td>NaN</td>\n",
       "      <td>3.045469</td>\n",
       "      <td>-1.916154</td>\n",
       "      <td>NaN</td>\n",
       "      <td>0.550606</td>\n",
       "      <td>-0.022156</td>\n",
       "      <td>-0.050106</td>\n",
       "      <td>NaN</td>\n",
       "      <td>NaN</td>\n",
       "      <td>1.809179</td>\n",
       "    </tr>\n",
       "    <tr>\n",
       "      <th>7</th>\n",
       "      <td>1.889092</td>\n",
       "      <td>-0.000355</td>\n",
       "      <td>3.159910</td>\n",
       "      <td>-1.694685</td>\n",
       "      <td>-0.098333</td>\n",
       "      <td>0.367897</td>\n",
       "      <td>NaN</td>\n",
       "      <td>NaN</td>\n",
       "      <td>NaN</td>\n",
       "      <td>-0.004136</td>\n",
       "      <td>1.792437</td>\n",
       "    </tr>\n",
       "    <tr>\n",
       "      <th>8</th>\n",
       "      <td>1.960066</td>\n",
       "      <td>-0.013852</td>\n",
       "      <td>3.663438</td>\n",
       "      <td>-2.123016</td>\n",
       "      <td>NaN</td>\n",
       "      <td>0.799468</td>\n",
       "      <td>-0.459798</td>\n",
       "      <td>-0.116595</td>\n",
       "      <td>0.164171</td>\n",
       "      <td>NaN</td>\n",
       "      <td>1.693633</td>\n",
       "    </tr>\n",
       "    <tr>\n",
       "      <th>9</th>\n",
       "      <td>2.063281</td>\n",
       "      <td>-0.030314</td>\n",
       "      <td>2.610641</td>\n",
       "      <td>-2.461511</td>\n",
       "      <td>1.849421</td>\n",
       "      <td>1.083937</td>\n",
       "      <td>-1.537801</td>\n",
       "      <td>-0.177622</td>\n",
       "      <td>0.404427</td>\n",
       "      <td>NaN</td>\n",
       "      <td>1.787348</td>\n",
       "    </tr>\n",
       "    <tr>\n",
       "      <th>10</th>\n",
       "      <td>2.143109</td>\n",
       "      <td>-0.030492</td>\n",
       "      <td>2.638571</td>\n",
       "      <td>-2.741169</td>\n",
       "      <td>1.824256</td>\n",
       "      <td>1.305654</td>\n",
       "      <td>-1.539444</td>\n",
       "      <td>-0.236069</td>\n",
       "      <td>0.407653</td>\n",
       "      <td>0.004342</td>\n",
       "      <td>1.783211</td>\n",
       "    </tr>\n",
       "  </tbody>\n",
       "</table>\n",
       "</div>"
      ],
      "text/plain": [
       "           X      X^10       X^2       X^3       X^4       X^5       X^6  \\\n",
       "0        NaN       NaN       NaN       NaN       NaN       NaN       NaN   \n",
       "1        NaN       NaN  3.176949       NaN       NaN       NaN       NaN   \n",
       "2        NaN       NaN  2.748088       NaN       NaN       NaN       NaN   \n",
       "3   1.239678       NaN  3.007395 -0.527618       NaN       NaN       NaN   \n",
       "4   1.202926       NaN  2.988463 -0.507161       NaN       NaN       NaN   \n",
       "5   1.520550       NaN  2.908608 -1.007375       NaN  0.160486       NaN   \n",
       "6   1.950324       NaN  3.045469 -1.916154       NaN  0.550606 -0.022156   \n",
       "7   1.889092 -0.000355  3.159910 -1.694685 -0.098333  0.367897       NaN   \n",
       "8   1.960066 -0.013852  3.663438 -2.123016       NaN  0.799468 -0.459798   \n",
       "9   2.063281 -0.030314  2.610641 -2.461511  1.849421  1.083937 -1.537801   \n",
       "10  2.143109 -0.030492  2.638571 -2.741169  1.824256  1.305654 -1.539444   \n",
       "\n",
       "         X^7       X^8       X^9     const  \n",
       "0        NaN       NaN       NaN  4.840191  \n",
       "1        NaN       NaN       NaN  1.629781  \n",
       "2  -0.005252       NaN       NaN  1.988050  \n",
       "3        NaN       NaN       NaN  1.839114  \n",
       "4        NaN       NaN -0.000028  1.850427  \n",
       "5  -0.012204       NaN       NaN  1.875639  \n",
       "6  -0.050106       NaN       NaN  1.809179  \n",
       "7        NaN       NaN -0.004136  1.792437  \n",
       "8  -0.116595  0.164171       NaN  1.693633  \n",
       "9  -0.177622  0.404427       NaN  1.787348  \n",
       "10 -0.236069  0.407653  0.004342  1.783211  "
      ]
     },
     "execution_count": 924,
     "metadata": {},
     "output_type": "execute_result"
    }
   ],
   "source": [
    "models_best.apply(lambda row: row[1].params, axis=1) # get the parameters of the best model for each number of predictors\n"
   ]
  },
  {
   "cell_type": "markdown",
   "metadata": {},
   "source": [
    "For k=3 we have X, X^2 and X^3 as expected from simulating y. Even the coefficients are close to the expected values.  "
   ]
  },
  {
   "cell_type": "markdown",
   "metadata": {},
   "source": [
    "### Part c)"
   ]
  },
  {
   "cell_type": "code",
   "execution_count": 925,
   "metadata": {},
   "outputs": [],
   "source": [
    "rsquare = models_best.apply(lambda row: row[1].rsquared_adj, axis=1) # get the R^2 of the best model for each number of predictors\n",
    "bic = models_best.apply(lambda row: row[1].bic, axis=1) # get the BIC of the best model for each number of predictors\n",
    "aic = models_best.apply(lambda row: row[1].aic, axis=1) # get the Mallow's Cp of the best model for each number of predictors\n",
    "# print(rsquare)\n",
    "# print(dir(models_best.loc[2, \"model\"]))\n"
   ]
  },
  {
   "cell_type": "code",
   "execution_count": 926,
   "metadata": {},
   "outputs": [
    {
     "data": {
      "image/png": "[encoded data removed]",
      "text/plain": [
       "<Figure size 640x480 with 1 Axes>"
      ]
     },
     "metadata": {},
     "output_type": "display_data"
    },
    {
     "data": {
      "image/png": "[encoded data removed]",
      "text/plain": [
       "<Figure size 640x480 with 1 Axes>"
      ]
     },
     "metadata": {},
     "output_type": "display_data"
    }
   ],
   "source": [
    "plt.plot(rsquare, label=\"$R^2$\")\n",
    "plt.legend()\n",
    "plt.xlabel('Number of Predictors')\n",
    "plt.show()\n",
    "\n",
    "plt.plot(bic, label=\"BIC\")\n",
    "plt.plot(aic, label=\"AIC (Mallow's $C_p$)\")\n",
    "plt.legend()\n",
    "plt.xlabel('Number of Predictors');"
   ]
  },
  {
   "cell_type": "code",
   "execution_count": 927,
   "metadata": {},
   "outputs": [
    {
     "name": "stdout",
     "output_type": "stream",
     "text": [
      "3\n",
      "6\n",
      "8\n",
      "0.9644813712442187\n",
      "0.9630183390452486\n"
     ]
    }
   ],
   "source": [
    "print(bic.idxmin()) #Finds where minimum  and maximum values are\n",
    "print(aic.idxmin())\n",
    "print(rsquare.idxmax())\n",
    "\n",
    "print(rsquare.max()) #To compare k=4 and k=3\n",
    "print(rsquare[3])\n"
   ]
  },
  {
   "cell_type": "markdown",
   "metadata": {},
   "source": [
    "Since the r-squared values for k=3 and k=4 are very close, we can conclude that the model with 3 predictors is best."
   ]
  },
  {
   "cell_type": "code",
   "execution_count": 928,
   "metadata": {},
   "outputs": [
    {
     "name": "stdout",
     "output_type": "stream",
     "text": [
      "const    1.839114\n",
      "X        1.239678\n",
      "X^2      3.007395\n",
      "X^3     -0.527618\n",
      "dtype: float64\n"
     ]
    }
   ],
   "source": [
    "#coefficients of k=3\n",
    "print(models_best.loc[3, \"model\"].params)"
   ]
  },
  {
   "cell_type": "markdown",
   "metadata": {},
   "source": [
    "They are fairly close to the correct result of (in order): 2, 1, 3, -0.5, as expected."
   ]
  },
  {
   "cell_type": "markdown",
   "metadata": {},
   "source": [
    "#### part d)"
   ]
  },
  {
   "cell_type": "code",
   "execution_count": 929,
   "metadata": {},
   "outputs": [],
   "source": [
    "from statsmodels.api import OLS\n",
    "import sklearn.model_selection as skm\n",
    "import sklearn.linear_model as skl\n",
    "from sklearn.preprocessing import StandardScaler\n",
    "from ISLP import load_data\n",
    "from ISLP.models import ModelSpec as MS\n",
    "from functools import partial\n",
    "from sklearn.pipeline import Pipeline\n",
    "from sklearn.decomposition import PCA\n",
    "from sklearn.cross_decomposition import PLSRegression\n",
    "from ISLP.models import \\\n",
    "    (Stepwise,\n",
    "     sklearn_selected,\n",
    "     sklearn_selection_path)\n",
    "from l0bnb import fit_path"
   ]
  },
  {
   "cell_type": "code",
   "execution_count": 930,
   "metadata": {},
   "outputs": [],
   "source": [
    "### From the ISLP book ###\n",
    "def nCp(sigma2, estimator, X, Y): #Cp is negative, since sklearn tries to maximize the score, but we want to minimize Cp\n",
    "    \"Negative Cp Statistic\"\n",
    "    n, p = X.shape\n",
    "    Yhat = estimator.predict(X)\n",
    "    RSS = np.sum((Y - Yhat)**2)\n",
    "    return -(RSS + 2 * p * sigma2) / n\n",
    "    "
   ]
  },
  {
   "cell_type": "code",
   "execution_count": 931,
   "metadata": {},
   "outputs": [],
   "source": [
    "### From the ISLP book ###\n",
    "design = MS(Df.columns.drop('Y')).fit(Df)\n",
    "Y = np.array(Df['Y'])\n",
    "X = design.transform(Df)\n",
    "sigma2 = OLS(Y, X).fit().scale\n",
    "neg_Cp = partial(nCp, sigma2)\n",
    "\n",
    "strategy = Stepwise.first_peak(design,\n",
    "                               direction = 'forward',\n",
    "                               max_terms = len(design.terms))"
   ]
  },
  {
   "cell_type": "code",
   "execution_count": 932,
   "metadata": {},
   "outputs": [
    {
     "data": {
      "text/plain": [
       "('X', 'X^10', 'X^2', 'X^3', 'X^4', 'X^5', 'X^6', 'X^7', 'X^8', 'X^9')"
      ]
     },
     "execution_count": 932,
     "metadata": {},
     "output_type": "execute_result"
    }
   ],
   "source": [
    "#Forward selection using MSE\n",
    "Y_MSE = sklearn_selected(OLS, strategy)\n",
    "Y_MSE.fit(Df, Y)\n",
    "Y_MSE.selected_state_"
   ]
  },
  {
   "cell_type": "code",
   "execution_count": 933,
   "metadata": {},
   "outputs": [
    {
     "data": {
      "text/plain": [
       "('X', 'X^2', 'X^3', 'X^7')"
      ]
     },
     "execution_count": 933,
     "metadata": {},
     "output_type": "execute_result"
    }
   ],
   "source": [
    "#Forward selection using Cp\n",
    "Y_Cp = sklearn_selected(OLS,\n",
    "                        strategy,\n",
    "                        scoring = neg_Cp)\n",
    "Y_Cp.fit(Df, Y)\n",
    "Y_Cp.selected_state_"
   ]
  },
  {
   "cell_type": "code",
   "execution_count": 934,
   "metadata": {},
   "outputs": [],
   "source": [
    "#We repeat the same, but in the backwards direction\n",
    "strategy = Stepwise.first_peak(design,\n",
    "                                 direction = 'backwards',\n",
    "                                 max_terms = len(design.terms))"
   ]
  },
  {
   "cell_type": "code",
   "execution_count": 935,
   "metadata": {},
   "outputs": [
    {
     "data": {
      "text/plain": [
       "('X', 'X^10', 'X^2', 'X^3', 'X^4', 'X^5', 'X^6', 'X^7', 'X^8', 'X^9')"
      ]
     },
     "execution_count": 935,
     "metadata": {},
     "output_type": "execute_result"
    }
   ],
   "source": [
    "#Forward selection using MSE\n",
    "Y_MSE = sklearn_selected(OLS, strategy)\n",
    "Y_MSE.fit(Df, Y)\n",
    "Y_MSE.selected_state_"
   ]
  },
  {
   "cell_type": "code",
   "execution_count": 936,
   "metadata": {},
   "outputs": [
    {
     "data": {
      "text/plain": [
       "('X', 'X^2', 'X^3')"
      ]
     },
     "execution_count": 936,
     "metadata": {},
     "output_type": "execute_result"
    }
   ],
   "source": [
    "#Backwards selection using Cp\n",
    "Y_Cp = sklearn_selected(OLS,\n",
    "                        strategy,\n",
    "                        scoring = neg_Cp)\n",
    "Y_Cp.fit(Df, Y)\n",
    "Y_Cp.selected_state_"
   ]
  },
  {
   "cell_type": "markdown",
   "metadata": {},
   "source": [
    "#### part d)"
   ]
  },
  {
   "cell_type": "code",
   "execution_count": 937,
   "metadata": {},
   "outputs": [
    {
     "data": {
      "text/plain": [
       "0.013692808116355839"
      ]
     },
     "execution_count": 937,
     "metadata": {},
     "output_type": "execute_result"
    }
   ],
   "source": [
    "#p287 ISLP\n",
    "kfold = skm.KFold(5, random_state = 0, shuffle = True)\n",
    "scaler = StandardScaler(with_mean = True, with_std = True)\n",
    "lassoCV = skl.ElasticNetCV(n_alphas = 100,\n",
    "                           l1_ratio = 1,\n",
    "                           cv = kfold)\n",
    "pipeCV = Pipeline(steps = [('scaler', scaler),\n",
    "                            ('lasso', lassoCV)])  \n",
    "pipeCV.fit(X,Y)\n",
    "tuned_lasso = pipeCV.named_steps['lasso']\n",
    "tuned_lasso.alpha_"
   ]
  },
  {
   "cell_type": "code",
   "execution_count": 938,
   "metadata": {},
   "outputs": [],
   "source": [
    "%%capture\n",
    "##^^ suppresses output, I get lots of warnings otherwise\n",
    "D = design.fit_transform(Df)\n",
    "X = np.asarray(D)\n",
    "Xs = X - X.mean(0)[None, :]\n",
    "# X_scale = X.std(0)\n",
    "# Xs = np.nan_to_num(Xs / X_scale[None, :])\n",
    "# np.nan_to_num(Xs, copy = False)\n",
    "Y = np.array(Df['Y'])\n",
    "\n",
    "lambdas, soln_array = skl.Lasso.path(Xs,\n",
    "                                     Y,\n",
    "                                     l1_ratio = 1,\n",
    "                                     n_alphas = 100)[:2]\n",
    "\n",
    "soln_path = pd.DataFrame(soln_array.T,\n",
    "                         columns = D.columns,\n",
    "                         index = -np.log(lambdas))"
   ]
  },
  {
   "cell_type": "code",
   "execution_count": 939,
   "metadata": {},
   "outputs": [
    {
     "data": {
      "text/plain": [
       "1.0853450531163946"
      ]
     },
     "execution_count": 939,
     "metadata": {},
     "output_type": "execute_result"
    }
   ],
   "source": [
    "np.min(tuned_lasso.mse_path_.mean(1)) #Lowest MSE"
   ]
  },
  {
   "cell_type": "code",
   "execution_count": 940,
   "metadata": {},
   "outputs": [
    {
     "data": {
      "image/png": "[encoded data removed]",
      "text/plain": [
       "<Figure size 1000x600 with 1 Axes>"
      ]
     },
     "metadata": {},
     "output_type": "display_data"
    }
   ],
   "source": [
    "lassoCV_fig, ax = plt.subplots(figsize = (10,6))\n",
    "ax.errorbar(-np.log(tuned_lasso.alphas_),\n",
    "            tuned_lasso.mse_path_.mean(1),\n",
    "            yerr = tuned_lasso.mse_path_.std(1) / np.sqrt(5),\n",
    "            fmt = '-o')\n",
    "ax.axvline(-np.log(tuned_lasso.alpha_),\n",
    "            color = 'k',\n",
    "            linestyle = '--')\n",
    "ax.set_xlabel(r'$-\\log(\\lambda)$')\n",
    "ax.set_ylabel('Cross-validated MSE');\n",
    "# path_fig, ax = plt.subplots(figsize = (8,8))\n",
    "# soln_path.plot(ax = ax, legend = False)\n",
    "# ax.legend(loc = 'upper left')\n",
    "# ax.set_xlabel(r'$-\\log(\\lambda)$', fontsize = 20)\n",
    "# ax.set_ylabel('Standardized Coefficients', fontsize = 20);"
   ]
  },
  {
   "cell_type": "markdown",
   "metadata": {},
   "source": [
    "The lasso model actually uses more predictors than forward and backwards stepwise selection."
   ]
  },
  {
   "cell_type": "markdown",
   "metadata": {},
   "source": [
    "## Problem 2"
   ]
  },
  {
   "cell_type": "markdown",
   "metadata": {},
   "source": [
    "#### part a)\n",
    "I expect rigde regression to have a lower training RSS than lasso, since lasso tends to 'snap' coefficients to zero, while ridge does not, and ridge can, perhapse, overfit the data and obtain a lower training RSS. Again, the same can be said for forward and backward stepwise selection, since they have the ability to fit the data, as much as possible. \\\n",
    "They could theoretically tie, especially if most predictors are not useful, and therefore zero. Although this is unlikely. \\\n",
    "Wether some models outperform others depends on the data and the underlying model. If you have lots of non-noisy data, forwards/backwards stepwise selection could be the best, since they can fit the data as much as possible, but if you have noisy data, lasso could be the best, since it can 'snap' coefficients to zero, and therefore reduce overfitting."
   ]
  },
  {
   "cell_type": "markdown",
   "metadata": {},
   "source": [
    "#### part b)\n",
    "Here it is impossible to say, which model would have the smallelst test RSS, since we do not know the underlying model. If the data is very noisy, i would expect lasso to have the smallest RSS, since it can 'remove' predictors that are unuseful, which the other two models cannot. For a 'medium' amount of noise, ridge would probably be best, since it doesn't emmediately 'snap' coefficients that might be a little useful to zero, while not overfitting too much. For a small amount of noise, forwards/backwards stepwise selection would probably be best, since they can fit the data as much as possible, and therefore have the smallest test RSS. "
   ]
  },
  {
   "cell_type": "markdown",
   "metadata": {},
   "source": [
    "#### part c)\n",
    "i-v. Assuming the predictor $X_{k+1}$ describes the data really well, and all the others describe the data really poorly, then the k+1 model will always only have the predictor $X_{k+1}$, and the k model will have some random combination of the predictors, no matter the direction of the stepwise selectio, and all of the statements are therefore false \\\n",
    "I plotted an example belov, where k = 1, and the predictors are $X_1$ and $X_2$. Here a model with only $X_1$ will use a random combination of the predictors, while the model with $X_2$ will only use $X_2$."
   ]
  },
  {
   "cell_type": "code",
   "execution_count": 528,
   "metadata": {},
   "outputs": [
    {
     "data": {
      "image/png": "[encoded data removed]",
      "text/plain": [
       "<Figure size 640x480 with 1 Axes>"
      ]
     },
     "metadata": {},
     "output_type": "display_data"
    }
   ],
   "source": [
    "ax = plt.figure().add_subplot(projection='3d')\n",
    "Y = np.linspace(0, 3, 10)\n",
    "Z = 3*Y\n",
    "X = np.zeros(10)\n",
    "ax.scatter(X, Y, Z)\n",
    "plt.xlim(0, 1)\n",
    "plt.xlabel('$X_1$')\n",
    "plt.ylabel('$X_2$');\n"
   ]
  },
  {
   "cell_type": "markdown",
   "metadata": {},
   "source": [
    "### Problem 3"
   ]
  },
  {
   "cell_type": "code",
   "execution_count": 606,
   "metadata": {},
   "outputs": [],
   "source": [
    "fattrain = pd.read_csv('fattrain.csv')\n",
    "#Make first column the index\n",
    "fattrain.set_index('Unnamed: 0', inplace = True)\n",
    "fattrain.index.name = None\n",
    "\n",
    "fattest = pd.read_csv('fattest.csv')\n",
    "fattest.set_index('Unnamed: 0', inplace = True)\n",
    "fattest.index.name = None\n"
   ]
  },
  {
   "cell_type": "code",
   "execution_count": 604,
   "metadata": {},
   "outputs": [
    {
     "name": "stdout",
     "output_type": "stream",
     "text": [
      "brozek ~ age + weight + height + adipos + neck + chest + abdom + hip + thigh + knee + ankle + biceps + forearm + wrist\n"
     ]
    }
   ],
   "source": [
    "DataFinal = fattest\n",
    "fitstr = \"brozek ~ \"\n",
    "for i in range(len(DataFinal.columns[1:])):\n",
    "    fitstr += DataFinal.columns[i+1] + \" + \"\n",
    "fitstr = fitstr[:-3]\n",
    "print(fitstr)"
   ]
  },
  {
   "cell_type": "code",
   "execution_count": 591,
   "metadata": {},
   "outputs": [
    {
     "name": "stdout",
     "output_type": "stream",
     "text": [
      "                            OLS Regression Results                            \n",
      "==============================================================================\n",
      "Dep. Variable:                 brozek   R-squared:                       0.751\n",
      "Model:                            OLS   Adj. R-squared:                  0.720\n",
      "Method:                 Least Squares   F-statistic:                     23.72\n",
      "Date:                Wed, 06 Nov 2024   Prob (F-statistic):           6.13e-27\n",
      "Time:                        17:49:11   Log-Likelihood:                -341.63\n",
      "No. Observations:                 125   AIC:                             713.3\n",
      "Df Residuals:                     110   BIC:                             755.7\n",
      "Df Model:                          14                                         \n",
      "Covariance Type:            nonrobust                                         \n",
      "==============================================================================\n",
      "                 coef    std err          t      P>|t|      [0.025      0.975]\n",
      "------------------------------------------------------------------------------\n",
      "intercept    -70.6293     43.172     -1.636      0.105    -156.186      14.928\n",
      "age            0.1236      0.043      2.876      0.005       0.038       0.209\n",
      "weight        -0.1929      0.121     -1.593      0.114      -0.433       0.047\n",
      "height         1.0575      0.579      1.828      0.070      -0.089       2.204\n",
      "adipos         1.5740      0.846      1.860      0.066      -0.103       3.251\n",
      "neck          -0.6274      0.296     -2.118      0.036      -1.214      -0.040\n",
      "chest         -0.1163      0.136     -0.855      0.394      -0.386       0.153\n",
      "abdom          0.6822      0.124      5.520      0.000       0.437       0.927\n",
      "hip           -0.2258      0.209     -1.080      0.283      -0.640       0.189\n",
      "thigh          0.3817      0.197      1.940      0.055      -0.008       0.772\n",
      "knee          -0.8388      0.338     -2.481      0.015      -1.509      -0.169\n",
      "ankle          0.1183      0.234      0.505      0.615      -0.346       0.583\n",
      "biceps         0.2125      0.244      0.872      0.385      -0.270       0.696\n",
      "forearm        0.7130      0.301      2.369      0.020       0.117       1.309\n",
      "wrist         -1.1688      0.787     -1.485      0.140      -2.729       0.391\n",
      "==============================================================================\n",
      "Omnibus:                        1.407   Durbin-Watson:                   1.592\n",
      "Prob(Omnibus):                  0.495   Jarque-Bera (JB):                1.024\n",
      "Skew:                          -0.206   Prob(JB):                        0.599\n",
      "Kurtosis:                       3.163   Cond. No.                     3.39e+04\n",
      "==============================================================================\n",
      "\n",
      "Notes:\n",
      "[1] Standard Errors assume that the covariance matrix of the errors is correctly specified.\n",
      "[2] The condition number is large, 3.39e+04. This might indicate that there are\n",
      "strong multicollinearity or other numerical problems.\n"
     ]
    }
   ],
   "source": [
    "predictors = fattrain.columns.drop(['brozek'])\n",
    "X_fat = MS(predictors).fit_transform(fattrain)\n",
    "y_train = fattrain['brozek']\n",
    "model = sm.OLS(y_train, X_fat)\n",
    "# Fit the model\n",
    "result = model.fit()\n",
    "# Display and interpret results\n",
    "print(result.summary())"
   ]
  },
  {
   "cell_type": "markdown",
   "metadata": {},
   "source": [
    "Predictor abdom has the smallest P-value of 0.000. "
   ]
  },
  {
   "cell_type": "markdown",
   "metadata": {},
   "source": [
    "#### part b)"
   ]
  },
  {
   "cell_type": "code",
   "execution_count": 896,
   "metadata": {},
   "outputs": [],
   "source": [
    "FullFat = pd.concat([fattrain, fattest], axis = 0)"
   ]
  },
  {
   "cell_type": "code",
   "execution_count": 897,
   "metadata": {},
   "outputs": [],
   "source": [
    "#p. 279 ISLP\n",
    "design = MS(FullFat.columns.drop('brozek')).fit(FullFat)\n",
    "Y = np.array(FullFat['brozek'])\n",
    "X = design.transform(FullFat)\n",
    "D = design.fit_transform(FullFat)\n",
    "D = D.drop('intercept', axis = 1)\n",
    "X = np.asarray(D)\n",
    "# Y = np.array(FullFat['brozek'])\n",
    "lambdas = 10**np.linspace(8, -2, 100) / Y.std()"
   ]
  },
  {
   "cell_type": "code",
   "execution_count": 898,
   "metadata": {},
   "outputs": [],
   "source": [
    "outer_valid = skm.ShuffleSplit(n_splits = 1,\n",
    "                               test_size = 0.25,\n",
    "                               random_state = 1)\n",
    "inner_cv = skm.KFold(n_splits = 5,\n",
    "                        shuffle = True,\n",
    "                        random_state = 2)\n",
    "ridgeCV = skl.ElasticNetCV(alphas = lambdas,\n",
    "                           l1_ratio = 0,\n",
    "                           cv = inner_cv)\n",
    "pipeCV = Pipeline(steps = [('scaler', scaler),\n",
    "                           ('ridge', ridgeCV)])\n"
   ]
  },
  {
   "cell_type": "code",
   "execution_count": 907,
   "metadata": {},
   "outputs": [],
   "source": [
    "from contextlib import contextmanager\n",
    "import sys, os\n",
    "\n",
    "@contextmanager\n",
    "def suppress_stdout():\n",
    "    with open(os.devnull, \"w\") as devnull:\n",
    "        old_stdout = sys.stdout\n",
    "        sys.stdout = devnull\n",
    "        try:  \n",
    "            yield\n",
    "        finally:\n",
    "            sys.stdout = old_stdout"
   ]
  },
  {
   "cell_type": "code",
   "execution_count": 913,
   "metadata": {},
   "outputs": [],
   "source": [
    "%%capture \n",
    "#^^Suppresses output, I get lots of convergence warnings\n",
    "results = skm.cross_validate(pipeCV,\n",
    "                                X,\n",
    "                                Y,\n",
    "                                cv = outer_valid,\n",
    "                                return_train_score = True,\n",
    "                                return_estimator = True)\n"
   ]
  },
  {
   "cell_type": "code",
   "execution_count": 911,
   "metadata": {},
   "outputs": [
    {
     "data": {
      "text/plain": [
       "0.005236949524653777"
      ]
     },
     "execution_count": 911,
     "metadata": {},
     "output_type": "execute_result"
    }
   ],
   "source": [
    "#Everything is conviently stored in the results dictionary. We get lambda\n",
    "results['estimator'][0].named_steps['ridge'].alpha_"
   ]
  },
  {
   "cell_type": "code",
   "execution_count": 644,
   "metadata": {},
   "outputs": [
    {
     "name": "stdout",
     "output_type": "stream",
     "text": [
      "Training MSE:  0.77424526896824\n",
      "Test MSE:      0.6344710131495268\n"
     ]
    }
   ],
   "source": [
    "#And training and test scores\n",
    "print(\"Training MSE: \", results['train_score'][0])\n",
    "print(\"Test MSE:     \", results['test_score'][0])"
   ]
  },
  {
   "cell_type": "markdown",
   "metadata": {},
   "source": [
    "#### part c)"
   ]
  },
  {
   "cell_type": "code",
   "execution_count": 855,
   "metadata": {},
   "outputs": [],
   "source": [
    "design = MS(fattrain.columns.drop('brozek')).fit(fattrain)\n",
    "Y = np.array(fattrain['brozek'])\n",
    "X = design.transform(fattrain)\n",
    "D = design.fit_transform(fattrain)\n",
    "D = D.drop('intercept', axis = 1)\n",
    "X = np.asarray(D)\n",
    "# Y = np.array(FullFat['brozek'])\n",
    "lambdas = 10**np.linspace(8, -2, 100) / Y.std()"
   ]
  },
  {
   "cell_type": "code",
   "execution_count": 864,
   "metadata": {},
   "outputs": [
    {
     "data": {
      "text/plain": [
       "0.23053963612161377"
      ]
     },
     "execution_count": 864,
     "metadata": {},
     "output_type": "execute_result"
    }
   ],
   "source": [
    "K = 5\n",
    "kfold = skm.KFold(K, random_state = 0, shuffle = True) \n",
    "lassoCV = skl.ElasticNetCV(n_alphas = 100,\n",
    "                           l1_ratio = 1,\n",
    "                           cv = kfold)\n",
    "pipeCV = Pipeline(steps = [('scaler', scaler),\n",
    "                            ('lasso', lassoCV)])\n",
    "pipeCV.fit(X,Y)\n",
    "tuned_lasso = pipeCV.named_steps['lasso']\n",
    "tuned_lasso.alpha_"
   ]
  },
  {
   "cell_type": "code",
   "execution_count": 857,
   "metadata": {},
   "outputs": [],
   "source": [
    "Xs =  X - X.mean(0)[None, :]\n",
    "X_scale = X.std(0)\n",
    "Xs = Xs / X_scale[None, :]\n",
    "lambdas, soln_array = skl.Lasso.path(Xs,\n",
    "                                     Y,\n",
    "                                    l1_ratio = 1,\n",
    "                                    n_alphas = 100)[:2]\n",
    "soln_path = pd.DataFrame(soln_array.T,\n",
    "                         columns = D.columns,\n",
    "                         index = -np.log(lambdas))"
   ]
  },
  {
   "cell_type": "code",
   "execution_count": 865,
   "metadata": {},
   "outputs": [
    {
     "data": {
      "text/plain": [
       "{'fit_time': array([0.21859908]),\n",
       " 'score_time': array([0.00549483]),\n",
       " 'estimator': [Pipeline(steps=[('scaler', StandardScaler()),\n",
       "                  ('lasso',\n",
       "                   ElasticNetCV(cv=KFold(n_splits=5, random_state=0, shuffle=True),\n",
       "                                l1_ratio=1))])],\n",
       " 'test_score': array([0.63851993]),\n",
       " 'train_score': array([0.78976804])}"
      ]
     },
     "execution_count": 865,
     "metadata": {},
     "output_type": "execute_result"
    }
   ],
   "source": [
    "results = skm.cross_validate(pipeCV,\n",
    "                                X,\n",
    "                                Y,\n",
    "                                cv = outer_valid,\n",
    "                                return_train_score = True,\n",
    "                                return_estimator = True)\n",
    "results"
   ]
  },
  {
   "cell_type": "code",
   "execution_count": 859,
   "metadata": {},
   "outputs": [
    {
     "data": {
      "text/plain": [
       "412668.04764974373"
      ]
     },
     "execution_count": 859,
     "metadata": {},
     "output_type": "execute_result"
    }
   ],
   "source": [
    "#No matter what i do, i get insane testing errors and idk why\n",
    "Y = fattest['brozek']\n",
    "X = fattest.drop('brozek', axis = 1)\n",
    "print(np.mean((Y - np.sum(np.asarray(X)*tuned_lasso.coef_, axis = 1))**2))\n"
   ]
  },
  {
   "cell_type": "code",
   "execution_count": 860,
   "metadata": {},
   "outputs": [
    {
     "name": "stdout",
     "output_type": "stream",
     "text": [
      "437019.72282974067\n"
     ]
    },
    {
     "name": "stderr",
     "output_type": "stream",
     "text": [
      "c:\\Users\\chril\\AppData\\Local\\Programs\\Python\\Python311\\Lib\\site-packages\\sklearn\\base.py:486: UserWarning: X has feature names, but ElasticNetCV was fitted without feature names\n",
      "  warnings.warn(\n"
     ]
    }
   ],
   "source": [
    "yhat = tuned_lasso.predict(fattest[fattest.columns.drop('brozek')])\n",
    "TestMSE = np.mean((fattest['brozek'] - yhat)**2)\n",
    "print(TestMSE)"
   ]
  },
  {
   "cell_type": "markdown",
   "metadata": {},
   "source": [
    "#### part d)"
   ]
  },
  {
   "cell_type": "code",
   "execution_count": 885,
   "metadata": {},
   "outputs": [],
   "source": [
    "# Found on google\n",
    "def processSubset(feature_set):\n",
    "    # Fit model on feature_set and calculate RSS\n",
    "    # X = \n",
    "    model = sm.OLS(fattrain['brozek'], sm.add_constant(fattrain[list(feature_set)]))\n",
    "    regr = model.fit()\n",
    "    RSS: float = ((regr.predict((sm.add_constant(fattrain[list(feature_set)])) ) - fattrain['brozek'])**2).sum()\n",
    "    MSEtest: float = ((regr.predict((sm.add_constant(fattest[list(feature_set)])) ) - fattest['brozek'])**2).mean()\n",
    "    # print(regr.summary())\n",
    "    return {\"model\": regr, \"RSS\": RSS, \"MSEtest\": MSEtest}\n",
    "\n",
    "def getBest(k):\n",
    "    \n",
    "    tic = time.time()\n",
    "    \n",
    "    results = []\n",
    "    \n",
    "    for combo in itertools.combinations(fattrain.loc[:, fattrain.columns != 'brozek'].columns, k):\n",
    "        results.append(processSubset(combo))\n",
    "    \n",
    "    # Wrap everything up in a nice dataframe\n",
    "    models = pd.DataFrame(results)\n",
    "    \n",
    "    # Choose the model with the highest RSS\n",
    "    best_model = models.loc[models['RSS'].argmin()]\n",
    "    \n",
    "    toc = time.time()\n",
    "    print(\"Processed\", models.shape[0], \"models on\", k, \"predictors in\", (toc-tic), \"seconds.\")\n",
    "    \n",
    "    # Return the best model, along with some other useful information about the model\n",
    "    return best_model"
   ]
  },
  {
   "cell_type": "code",
   "execution_count": 886,
   "metadata": {},
   "outputs": [
    {
     "name": "stdout",
     "output_type": "stream",
     "text": [
      "Processed 1 models on 0 predictors in 0.01485300064086914 seconds.\n",
      "Processed 14 models on 1 predictors in 0.2512657642364502 seconds.\n",
      "Processed 91 models on 2 predictors in 1.4613239765167236 seconds.\n",
      "Processed 364 models on 3 predictors in 6.66951060295105 seconds.\n",
      "Processed 1001 models on 4 predictors in 18.602158784866333 seconds.\n",
      "Processed 2002 models on 5 predictors in 40.8828489780426 seconds.\n",
      "Processed 3003 models on 6 predictors in 66.42443752288818 seconds.\n",
      "Processed 3432 models on 7 predictors in 81.20971345901489 seconds.\n",
      "Processed 3003 models on 8 predictors in 75.13678860664368 seconds.\n",
      "Processed 2002 models on 9 predictors in 52.2716019153595 seconds.\n",
      "Processed 1001 models on 10 predictors in 27.544811964035034 seconds.\n",
      "Processed 364 models on 11 predictors in 10.757773399353027 seconds.\n",
      "Processed 91 models on 12 predictors in 3.682547092437744 seconds.\n",
      "Processed 14 models on 13 predictors in 0.42160487174987793 seconds.\n",
      "Processed 1 models on 14 predictors in 0.04290008544921875 seconds.\n",
      "Total elapsed time: 385.64776635169983 seconds.\n"
     ]
    }
   ],
   "source": [
    "#Also from google\n",
    "models_best = pd.DataFrame(columns=[\"RSS\", \"model\", \"MSEtest\"])\n",
    "\n",
    "tic = time.time()\n",
    "for i in range(len(fattrain.columns)):\n",
    "    models_best.loc[i] = getBest(i)\n",
    " \n",
    "toc = time.time()\n",
    "print(\"Total elapsed time:\", (toc-tic), \"seconds.\")\n"
   ]
  },
  {
   "cell_type": "code",
   "execution_count": 887,
   "metadata": {},
   "outputs": [
    {
     "data": {
      "text/html": [
       "<div>\n",
       "<style scoped>\n",
       "    .dataframe tbody tr th:only-of-type {\n",
       "        vertical-align: middle;\n",
       "    }\n",
       "\n",
       "    .dataframe tbody tr th {\n",
       "        vertical-align: top;\n",
       "    }\n",
       "\n",
       "    .dataframe thead th {\n",
       "        text-align: right;\n",
       "    }\n",
       "</style>\n",
       "<table border=\"1\" class=\"dataframe\">\n",
       "  <thead>\n",
       "    <tr style=\"text-align: right;\">\n",
       "      <th></th>\n",
       "      <th>abdom</th>\n",
       "      <th>adipos</th>\n",
       "      <th>age</th>\n",
       "      <th>ankle</th>\n",
       "      <th>biceps</th>\n",
       "      <th>chest</th>\n",
       "      <th>const</th>\n",
       "      <th>forearm</th>\n",
       "      <th>height</th>\n",
       "      <th>hip</th>\n",
       "      <th>knee</th>\n",
       "      <th>neck</th>\n",
       "      <th>thigh</th>\n",
       "      <th>weight</th>\n",
       "      <th>wrist</th>\n",
       "    </tr>\n",
       "  </thead>\n",
       "  <tbody>\n",
       "    <tr>\n",
       "      <th>0</th>\n",
       "      <td>NaN</td>\n",
       "      <td>NaN</td>\n",
       "      <td>NaN</td>\n",
       "      <td>NaN</td>\n",
       "      <td>NaN</td>\n",
       "      <td>NaN</td>\n",
       "      <td>18.781600</td>\n",
       "      <td>NaN</td>\n",
       "      <td>NaN</td>\n",
       "      <td>NaN</td>\n",
       "      <td>NaN</td>\n",
       "      <td>NaN</td>\n",
       "      <td>NaN</td>\n",
       "      <td>NaN</td>\n",
       "      <td>NaN</td>\n",
       "    </tr>\n",
       "    <tr>\n",
       "      <th>1</th>\n",
       "      <td>0.526763</td>\n",
       "      <td>NaN</td>\n",
       "      <td>NaN</td>\n",
       "      <td>NaN</td>\n",
       "      <td>NaN</td>\n",
       "      <td>NaN</td>\n",
       "      <td>-29.895486</td>\n",
       "      <td>NaN</td>\n",
       "      <td>NaN</td>\n",
       "      <td>NaN</td>\n",
       "      <td>NaN</td>\n",
       "      <td>NaN</td>\n",
       "      <td>NaN</td>\n",
       "      <td>NaN</td>\n",
       "      <td>NaN</td>\n",
       "    </tr>\n",
       "    <tr>\n",
       "      <th>2</th>\n",
       "      <td>0.805072</td>\n",
       "      <td>NaN</td>\n",
       "      <td>NaN</td>\n",
       "      <td>NaN</td>\n",
       "      <td>NaN</td>\n",
       "      <td>NaN</td>\n",
       "      <td>-35.449889</td>\n",
       "      <td>NaN</td>\n",
       "      <td>NaN</td>\n",
       "      <td>NaN</td>\n",
       "      <td>NaN</td>\n",
       "      <td>NaN</td>\n",
       "      <td>NaN</td>\n",
       "      <td>-0.113528</td>\n",
       "      <td>NaN</td>\n",
       "    </tr>\n",
       "    <tr>\n",
       "      <th>3</th>\n",
       "      <td>0.827880</td>\n",
       "      <td>NaN</td>\n",
       "      <td>NaN</td>\n",
       "      <td>NaN</td>\n",
       "      <td>NaN</td>\n",
       "      <td>NaN</td>\n",
       "      <td>-45.323101</td>\n",
       "      <td>0.433743</td>\n",
       "      <td>NaN</td>\n",
       "      <td>NaN</td>\n",
       "      <td>NaN</td>\n",
       "      <td>NaN</td>\n",
       "      <td>NaN</td>\n",
       "      <td>-0.139340</td>\n",
       "      <td>NaN</td>\n",
       "    </tr>\n",
       "    <tr>\n",
       "      <th>4</th>\n",
       "      <td>0.756796</td>\n",
       "      <td>NaN</td>\n",
       "      <td>NaN</td>\n",
       "      <td>NaN</td>\n",
       "      <td>NaN</td>\n",
       "      <td>NaN</td>\n",
       "      <td>-5.389972</td>\n",
       "      <td>0.573533</td>\n",
       "      <td>NaN</td>\n",
       "      <td>NaN</td>\n",
       "      <td>-0.818698</td>\n",
       "      <td>-0.810143</td>\n",
       "      <td>NaN</td>\n",
       "      <td>NaN</td>\n",
       "      <td>NaN</td>\n",
       "    </tr>\n",
       "    <tr>\n",
       "      <th>5</th>\n",
       "      <td>0.708115</td>\n",
       "      <td>NaN</td>\n",
       "      <td>0.070112</td>\n",
       "      <td>NaN</td>\n",
       "      <td>NaN</td>\n",
       "      <td>NaN</td>\n",
       "      <td>-10.865730</td>\n",
       "      <td>0.705632</td>\n",
       "      <td>NaN</td>\n",
       "      <td>NaN</td>\n",
       "      <td>-0.774783</td>\n",
       "      <td>-0.773270</td>\n",
       "      <td>NaN</td>\n",
       "      <td>NaN</td>\n",
       "      <td>NaN</td>\n",
       "    </tr>\n",
       "    <tr>\n",
       "      <th>6</th>\n",
       "      <td>0.696413</td>\n",
       "      <td>NaN</td>\n",
       "      <td>0.086381</td>\n",
       "      <td>NaN</td>\n",
       "      <td>NaN</td>\n",
       "      <td>NaN</td>\n",
       "      <td>-5.860424</td>\n",
       "      <td>0.872913</td>\n",
       "      <td>NaN</td>\n",
       "      <td>NaN</td>\n",
       "      <td>-0.623173</td>\n",
       "      <td>-0.596064</td>\n",
       "      <td>NaN</td>\n",
       "      <td>NaN</td>\n",
       "      <td>-1.208171</td>\n",
       "    </tr>\n",
       "    <tr>\n",
       "      <th>7</th>\n",
       "      <td>0.632649</td>\n",
       "      <td>NaN</td>\n",
       "      <td>0.123535</td>\n",
       "      <td>NaN</td>\n",
       "      <td>NaN</td>\n",
       "      <td>NaN</td>\n",
       "      <td>-6.800213</td>\n",
       "      <td>0.882043</td>\n",
       "      <td>NaN</td>\n",
       "      <td>NaN</td>\n",
       "      <td>-0.864268</td>\n",
       "      <td>-0.649408</td>\n",
       "      <td>0.280307</td>\n",
       "      <td>NaN</td>\n",
       "      <td>-1.227800</td>\n",
       "    </tr>\n",
       "    <tr>\n",
       "      <th>8</th>\n",
       "      <td>0.683125</td>\n",
       "      <td>NaN</td>\n",
       "      <td>0.113415</td>\n",
       "      <td>NaN</td>\n",
       "      <td>NaN</td>\n",
       "      <td>NaN</td>\n",
       "      <td>-3.956286</td>\n",
       "      <td>0.830414</td>\n",
       "      <td>NaN</td>\n",
       "      <td>-0.172499</td>\n",
       "      <td>-0.783077</td>\n",
       "      <td>-0.644976</td>\n",
       "      <td>0.378781</td>\n",
       "      <td>NaN</td>\n",
       "      <td>-1.088834</td>\n",
       "    </tr>\n",
       "    <tr>\n",
       "      <th>9</th>\n",
       "      <td>0.682923</td>\n",
       "      <td>NaN</td>\n",
       "      <td>0.113580</td>\n",
       "      <td>NaN</td>\n",
       "      <td>0.178644</td>\n",
       "      <td>NaN</td>\n",
       "      <td>-2.223757</td>\n",
       "      <td>0.756100</td>\n",
       "      <td>NaN</td>\n",
       "      <td>-0.189612</td>\n",
       "      <td>-0.791770</td>\n",
       "      <td>-0.691433</td>\n",
       "      <td>0.355096</td>\n",
       "      <td>NaN</td>\n",
       "      <td>-1.096363</td>\n",
       "    </tr>\n",
       "    <tr>\n",
       "      <th>10</th>\n",
       "      <td>0.607851</td>\n",
       "      <td>1.418095</td>\n",
       "      <td>0.124481</td>\n",
       "      <td>NaN</td>\n",
       "      <td>NaN</td>\n",
       "      <td>NaN</td>\n",
       "      <td>-81.598056</td>\n",
       "      <td>0.792256</td>\n",
       "      <td>1.005460</td>\n",
       "      <td>NaN</td>\n",
       "      <td>-0.841266</td>\n",
       "      <td>-0.562373</td>\n",
       "      <td>0.349515</td>\n",
       "      <td>-0.210653</td>\n",
       "      <td>-1.103420</td>\n",
       "    </tr>\n",
       "    <tr>\n",
       "      <th>11</th>\n",
       "      <td>0.619330</td>\n",
       "      <td>1.487147</td>\n",
       "      <td>0.121956</td>\n",
       "      <td>NaN</td>\n",
       "      <td>NaN</td>\n",
       "      <td>NaN</td>\n",
       "      <td>-72.382904</td>\n",
       "      <td>0.753243</td>\n",
       "      <td>1.015851</td>\n",
       "      <td>-0.192555</td>\n",
       "      <td>-0.816850</td>\n",
       "      <td>-0.620382</td>\n",
       "      <td>0.426843</td>\n",
       "      <td>-0.185890</td>\n",
       "      <td>-1.104946</td>\n",
       "    </tr>\n",
       "    <tr>\n",
       "      <th>12</th>\n",
       "      <td>0.633727</td>\n",
       "      <td>1.494837</td>\n",
       "      <td>0.120271</td>\n",
       "      <td>NaN</td>\n",
       "      <td>0.212750</td>\n",
       "      <td>NaN</td>\n",
       "      <td>-76.415774</td>\n",
       "      <td>0.663388</td>\n",
       "      <td>1.054590</td>\n",
       "      <td>-0.187534</td>\n",
       "      <td>-0.817118</td>\n",
       "      <td>-0.645603</td>\n",
       "      <td>0.403387</td>\n",
       "      <td>-0.203894</td>\n",
       "      <td>-1.069284</td>\n",
       "    </tr>\n",
       "    <tr>\n",
       "      <th>13</th>\n",
       "      <td>0.672757</td>\n",
       "      <td>1.635453</td>\n",
       "      <td>0.123040</td>\n",
       "      <td>NaN</td>\n",
       "      <td>0.211483</td>\n",
       "      <td>-0.116133</td>\n",
       "      <td>-71.344340</td>\n",
       "      <td>0.704542</td>\n",
       "      <td>1.091853</td>\n",
       "      <td>-0.235857</td>\n",
       "      <td>-0.813357</td>\n",
       "      <td>-0.639578</td>\n",
       "      <td>0.379342</td>\n",
       "      <td>-0.192822</td>\n",
       "      <td>-1.099629</td>\n",
       "    </tr>\n",
       "    <tr>\n",
       "      <th>14</th>\n",
       "      <td>0.682220</td>\n",
       "      <td>1.573991</td>\n",
       "      <td>0.123592</td>\n",
       "      <td>0.11831</td>\n",
       "      <td>0.212541</td>\n",
       "      <td>-0.116315</td>\n",
       "      <td>-70.629255</td>\n",
       "      <td>0.712951</td>\n",
       "      <td>1.057475</td>\n",
       "      <td>-0.225778</td>\n",
       "      <td>-0.838775</td>\n",
       "      <td>-0.627406</td>\n",
       "      <td>0.381701</td>\n",
       "      <td>-0.192878</td>\n",
       "      <td>-1.168765</td>\n",
       "    </tr>\n",
       "  </tbody>\n",
       "</table>\n",
       "</div>"
      ],
      "text/plain": [
       "       abdom    adipos       age    ankle    biceps     chest      const  \\\n",
       "0        NaN       NaN       NaN      NaN       NaN       NaN  18.781600   \n",
       "1   0.526763       NaN       NaN      NaN       NaN       NaN -29.895486   \n",
       "2   0.805072       NaN       NaN      NaN       NaN       NaN -35.449889   \n",
       "3   0.827880       NaN       NaN      NaN       NaN       NaN -45.323101   \n",
       "4   0.756796       NaN       NaN      NaN       NaN       NaN  -5.389972   \n",
       "5   0.708115       NaN  0.070112      NaN       NaN       NaN -10.865730   \n",
       "6   0.696413       NaN  0.086381      NaN       NaN       NaN  -5.860424   \n",
       "7   0.632649       NaN  0.123535      NaN       NaN       NaN  -6.800213   \n",
       "8   0.683125       NaN  0.113415      NaN       NaN       NaN  -3.956286   \n",
       "9   0.682923       NaN  0.113580      NaN  0.178644       NaN  -2.223757   \n",
       "10  0.607851  1.418095  0.124481      NaN       NaN       NaN -81.598056   \n",
       "11  0.619330  1.487147  0.121956      NaN       NaN       NaN -72.382904   \n",
       "12  0.633727  1.494837  0.120271      NaN  0.212750       NaN -76.415774   \n",
       "13  0.672757  1.635453  0.123040      NaN  0.211483 -0.116133 -71.344340   \n",
       "14  0.682220  1.573991  0.123592  0.11831  0.212541 -0.116315 -70.629255   \n",
       "\n",
       "     forearm    height       hip      knee      neck     thigh    weight  \\\n",
       "0        NaN       NaN       NaN       NaN       NaN       NaN       NaN   \n",
       "1        NaN       NaN       NaN       NaN       NaN       NaN       NaN   \n",
       "2        NaN       NaN       NaN       NaN       NaN       NaN -0.113528   \n",
       "3   0.433743       NaN       NaN       NaN       NaN       NaN -0.139340   \n",
       "4   0.573533       NaN       NaN -0.818698 -0.810143       NaN       NaN   \n",
       "5   0.705632       NaN       NaN -0.774783 -0.773270       NaN       NaN   \n",
       "6   0.872913       NaN       NaN -0.623173 -0.596064       NaN       NaN   \n",
       "7   0.882043       NaN       NaN -0.864268 -0.649408  0.280307       NaN   \n",
       "8   0.830414       NaN -0.172499 -0.783077 -0.644976  0.378781       NaN   \n",
       "9   0.756100       NaN -0.189612 -0.791770 -0.691433  0.355096       NaN   \n",
       "10  0.792256  1.005460       NaN -0.841266 -0.562373  0.349515 -0.210653   \n",
       "11  0.753243  1.015851 -0.192555 -0.816850 -0.620382  0.426843 -0.185890   \n",
       "12  0.663388  1.054590 -0.187534 -0.817118 -0.645603  0.403387 -0.203894   \n",
       "13  0.704542  1.091853 -0.235857 -0.813357 -0.639578  0.379342 -0.192822   \n",
       "14  0.712951  1.057475 -0.225778 -0.838775 -0.627406  0.381701 -0.192878   \n",
       "\n",
       "       wrist  \n",
       "0        NaN  \n",
       "1        NaN  \n",
       "2        NaN  \n",
       "3        NaN  \n",
       "4        NaN  \n",
       "5        NaN  \n",
       "6  -1.208171  \n",
       "7  -1.227800  \n",
       "8  -1.088834  \n",
       "9  -1.096363  \n",
       "10 -1.103420  \n",
       "11 -1.104946  \n",
       "12 -1.069284  \n",
       "13 -1.099629  \n",
       "14 -1.168765  "
      ]
     },
     "execution_count": 887,
     "metadata": {},
     "output_type": "execute_result"
    }
   ],
   "source": [
    "models_best.apply(lambda row: row[1].params, axis=1) # get the parameters of the best model for each number of predictors\n"
   ]
  },
  {
   "cell_type": "code",
   "execution_count": 888,
   "metadata": {},
   "outputs": [],
   "source": [
    "rsquare = models_best.apply(lambda row: row[1].rsquared_adj, axis=1) # get the R^2 of the best model for each number of predictors\n",
    "bic = models_best.apply(lambda row: row[1].bic, axis=1) # get the BIC of the best model for each number of predictors\n",
    "aic = models_best.apply(lambda row: row[1].aic, axis=1) # get the Mallow's Cp of the best model for each number of predictors\n"
   ]
  },
  {
   "cell_type": "code",
   "execution_count": 889,
   "metadata": {},
   "outputs": [
    {
     "data": {
      "image/png": "[encoded data removed]",
      "text/plain": [
       "<Figure size 640x480 with 1 Axes>"
      ]
     },
     "metadata": {},
     "output_type": "display_data"
    },
    {
     "data": {
      "image/png": "[encoded data removed]",
      "text/plain": [
       "<Figure size 640x480 with 1 Axes>"
      ]
     },
     "metadata": {},
     "output_type": "display_data"
    }
   ],
   "source": [
    "plt.plot(rsquare, label=\"$R^2$\")\n",
    "plt.legend()\n",
    "plt.xlabel('Number of Predictors')\n",
    "plt.show()\n",
    "\n",
    "plt.plot(bic, label=\"BIC\")\n",
    "plt.plot(aic, label=\"AIC (Mallow's $C_p$)\")\n",
    "plt.legend()\n",
    "plt.xlabel('Number of Predictors');"
   ]
  },
  {
   "cell_type": "code",
   "execution_count": 890,
   "metadata": {},
   "outputs": [
    {
     "name": "stdout",
     "output_type": "stream",
     "text": [
      "2\n"
     ]
    },
    {
     "data": {
      "text/plain": [
       "const    -35.449889\n",
       "weight    -0.113528\n",
       "abdom      0.805072\n",
       "dtype: float64"
      ]
     },
     "execution_count": 890,
     "metadata": {},
     "output_type": "execute_result"
    }
   ],
   "source": [
    "print(bic.idxmin()) #Finds where minimum  and maximum values are\n",
    "models_best.loc[bic.idxmin(), \"model\"].params #Coefficients of the best model"
   ]
  },
  {
   "cell_type": "code",
   "execution_count": 891,
   "metadata": {},
   "outputs": [
    {
     "name": "stdout",
     "output_type": "stream",
     "text": [
      "Training MSE\n"
     ]
    },
    {
     "data": {
      "text/plain": [
       "0     55.657181\n",
       "1     19.356918\n",
       "2     16.867877\n",
       "3     16.426438\n",
       "4     16.006688\n",
       "5     15.358512\n",
       "6     14.991919\n",
       "7      14.61687\n",
       "8     14.488693\n",
       "9     14.414901\n",
       "10    14.184297\n",
       "11    14.067825\n",
       "12    13.971875\n",
       "13    13.880071\n",
       "14    13.848003\n",
       "Name: RSS, dtype: object"
      ]
     },
     "execution_count": 891,
     "metadata": {},
     "output_type": "execute_result"
    }
   ],
   "source": [
    "print(\"Training MSE\")\n",
    "models_best['RSS']/len(fattrain) #MSE of the best model for each number of predictors"
   ]
  },
  {
   "cell_type": "code",
   "execution_count": 892,
   "metadata": {},
   "outputs": [
    {
     "name": "stdout",
     "output_type": "stream",
     "text": [
      "Test MSE\n"
     ]
    },
    {
     "data": {
      "text/plain": [
       "0     63.184023\n",
       "1     21.676359\n",
       "2      17.54809\n",
       "3      17.47053\n",
       "4      20.24854\n",
       "5     20.525992\n",
       "6     19.293303\n",
       "7     19.853054\n",
       "8     19.076534\n",
       "9     19.248473\n",
       "10    19.967819\n",
       "11    19.725981\n",
       "12    19.844031\n",
       "13    19.984394\n",
       "14    19.962932\n",
       "Name: MSEtest, dtype: object"
      ]
     },
     "execution_count": 892,
     "metadata": {},
     "output_type": "execute_result"
    }
   ],
   "source": [
    "print(\"Test MSE\")\n",
    "models_best['MSEtest'] #MSE of the best model for each number of predictors"
   ]
  },
  {
   "cell_type": "code",
   "execution_count": 893,
   "metadata": {},
   "outputs": [
    {
     "data": {
      "text/plain": [
       "17.470530486940454"
      ]
     },
     "execution_count": 893,
     "metadata": {},
     "output_type": "execute_result"
    }
   ],
   "source": [
    "np.min(models_best['MSEtest']) #Lowest test MSE"
   ]
  },
  {
   "cell_type": "markdown",
   "metadata": {},
   "source": [
    "seems to be a fair bit higher than in a) and b), maybe I did something wrong or it is beacuse the data is normalized in the others. \\\n",
    "Both models in a) and b) have almost the same, low, training error, which is good since they are computationally easy."
   ]
  }
 ],
 "metadata": {
  "kernelspec": {
   "display_name": "Python 3",
   "language": "python",
   "name": "python3"
  },
  "language_info": {
   "codemirror_mode": {
    "name": "ipython",
    "version": 3
   },
   "file_extension": ".py",
   "mimetype": "text/x-python",
   "name": "python",
   "nbconvert_exporter": "python",
   "pygments_lexer": "ipython3",
   "version": "3.11.1"
  }
 },
 "nbformat": 4,
 "nbformat_minor": 2
}
